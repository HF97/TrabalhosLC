{
 "cells": [
  {
   "cell_type": "markdown",
   "metadata": {},
   "source": [
    "# Trabalho 1 LC-20/21 LCC"
   ]
  },
  {
   "cell_type": "markdown",
   "metadata": {},
   "source": [
    "Grupo 5  \n",
    "Filipe Barbosa A77252  \n",
    "Hugo Ferreira A78555"
   ]
  },
  {
   "cell_type": "code",
   "execution_count": 55,
   "metadata": {},
   "outputs": [],
   "source": [
    "from z3 import *"
   ]
  },
  {
   "cell_type": "markdown",
   "metadata": {},
   "source": [
    "### Problema 2"
   ]
  },
  {
   "cell_type": "markdown",
   "metadata": {},
   "source": [
    "#### Hipótese: \n",
    "Existem $N$ pombos  e $N-1$ poleiros de pombos. Cada pombo ocupa totalmente um poleiro. Pretende-se alocar cada pombo a um poleiro próprio."
   ]
  },
  {
   "cell_type": "markdown",
   "metadata": {},
   "source": [
    "### a. Provar que não existe solução do problema, usando  Z3 em:"
   ]
  },
  {
   "cell_type": "markdown",
   "metadata": {},
   "source": [
    "#### I. Lógica proposicional"
   ]
  },
  {
   "cell_type": "markdown",
   "metadata": {},
   "source": [
    "Para começar temos de restringir que, para cada pombo $i$ (com $N$ pombos), este ocupa um dos poleiros $j$ (com $N-1$ poleiros):\n",
    "\n",
    "$$\n",
    "\\bigwedge_{i=0}^{N} \\bigvee_{j=0}^{N-1} p_{i,j}\n",
    "\\tag{I.1}\n",
    "$$\n",
    "\n",
    "\n",
    "De seguida inferimos que, para todos os pombos ocuparem um poleiro é necessário, num desses poleiros $j$, encontrar-se dois pombos ($i$ e $k$), devido a termos $N$ pombos e $N-1$ poleiros:\n",
    "$$\n",
    "\\bigvee_{j=0}^{N-1} \\bigvee_{1 \\leq i<k \\leq N} (p_{i,j} \\wedge p_{k,j})\n",
    "\\tag{I.2}\n",
    "$$\n",
    "\n",
    "\n",
    "Para finalizar, partindo da hipótese, e das conclusões tiradas anteriormente, deduzimos que cada pombo $i$ tem de ter o seu próprio, e único, poleiro $j$:\n",
    "\n",
    "O pombo $i$ não pode ocupar o poleiro $j$ e $k$:\n",
    "$$\n",
    "\\bigwedge_{i=0}^{N} \\bigwedge_{1 \\leq j<k \\leq N-1} \\neg (p_{i,j} \\wedge p_{i,k})\n",
    "\\tag{I.3}\n",
    "$$\n",
    "\n",
    "Para qualquer poleiro $j$, este não pode ser ocupado pelo pombo $i$ e pelo pombo $k$:\n",
    "$$\n",
    "\\bigwedge_{j=0}^{N-1} ( \\bigwedge_{i=0}^{N} p_{i,j} \\rightarrow \n",
    "\\bigwedge_{k=i+1}^{N} \\neg p_{k,j} )\n",
    "\\tag{I.4}\n",
    "$$"
   ]
  },
  {
   "cell_type": "code",
   "execution_count": 56,
   "metadata": {},
   "outputs": [
    {
     "name": "stdout",
     "output_type": "stream",
     "text": [
      "unsat\n"
     ]
    }
   ],
   "source": [
    "def pigeon_hole(N):\n",
    "    s = Solver()\n",
    "    x = {}\n",
    "    \n",
    "    #criar as variaveis\n",
    "    for i in range(N):\n",
    "        x[i] = {}\n",
    "        for j in range(N-1):\n",
    "            x[i][j] = Bool(\"p_\"+str(i)+\", b_\"+str(j))\n",
    "  \n",
    "    #I.1 - cada pombo num buraco\n",
    "    for i in range(N):\n",
    "        s.add(Or([x[i][k] for k in range(N-1)]))\n",
    "    \n",
    "    #I.3 - pombo i nao pode ocupar poleiro i e k\n",
    "    for i in range(N):\n",
    "        for j in range(N-1):\n",
    "            s.add(Not(And(x[i][j],Or([x[i][k] for k in range(j+1,N-1)]))))\n",
    "\n",
    "    #I.4 - poleiro j nao pode ser ocupado por pombo i e k\n",
    "    for i in range(N):\n",
    "        for j in range(N-1):\n",
    "            for k in range(i+1,N):\n",
    "                s.add(Implies(x[i][j],Not(x[k][j])))\n",
    "                \n",
    "    print(s.check())\n",
    "\n",
    "    \n",
    "N=10\n",
    "pigeon_hole(N)"
   ]
  },
  {
   "cell_type": "markdown",
   "metadata": {},
   "source": [
    "Após executar o código a cima, com auxílio do Z3, é nos dada como resposta $unsat$. Esta resposta permite chegarmos á conclusão que não é possível satisfazer a hipótese.\n",
    "\n",
    "Da hipótese, como temos $N$ pombos  e $N-1$ poleiros, vai chegar uma altura que $p_{i,j}$ e $p_{k,j}$, o que contraria a fórmula I.4."
   ]
  },
  {
   "cell_type": "markdown",
   "metadata": {},
   "source": [
    "#### II. Lógica inteira linear"
   ]
  },
  {
   "cell_type": "markdown",
   "metadata": {},
   "source": [
    "Começamos agora por mostrar que cada pombo $i$ está no buraco $j$ se $p_{i,j} = 1$. Ou que não ocupa esse buraco se $p_{i,j}$ = 0.\n",
    "\n",
    "$$\n",
    "\\forall_{i=0}^{N} \\forall_{j=0}^{N-1} \\cdot 0 \\leq p_{i,j} \\leq 1 \\tag{II.1}\n",
    "$$"
   ]
  },
  {
   "cell_type": "markdown",
   "metadata": {},
   "source": [
    "De seguida, restringe-se que cada pombo pode apenas ocupar um buraco. O somatório de todos os pombos $i$ para cada buraco $j$ (de $j=0$ até $j=N-1$) é 1.\n",
    "\n",
    "$$\n",
    "\\forall_{i=0}^{N} \\cdot \\sum_{j=0}^{N-1} p_{i,j} = 1 \\tag{II.2}\n",
    "$$"
   ]
  },
  {
   "cell_type": "markdown",
   "metadata": {},
   "source": [
    "Restringe-se agora que cada buraco apenas pode ser ocupado por um pombo. O somatório de todos os buracos $j$ com cada pombo $i$ (de $i=0$ até $i=N$) é 1.\n",
    "\n",
    "$$\n",
    "\\forall_{j=0}^{N-1} \\cdot \\sum_{i=0}^{N} p_{i,j} = 1 \\tag{II.3}\n",
    "$$"
   ]
  },
  {
   "cell_type": "code",
   "execution_count": 57,
   "metadata": {},
   "outputs": [
    {
     "name": "stdout",
     "output_type": "stream",
     "text": [
      "unsat\n"
     ]
    }
   ],
   "source": [
    "def pigeon_holeLIA(N):\n",
    "    sLIA = Solver()\n",
    "    xLIA = {}\n",
    "    \n",
    "    #II.1 - cada pombo ocupa ou nao um buraco\n",
    "    for i in range(N):\n",
    "        for j in range(N-1):\n",
    "            xLIA[i,j] = Int(\"p_\"+str(i)+\", b_\"+str(j))\n",
    "            sLIA.add(xLIA[i,j] >= 0, xLIA[i,j] <= 1)\n",
    "    \n",
    "    #II.2 - pombo i pode ocupar apenas um buraco\n",
    "    for i in range(N):\n",
    "        sLIA.add(Sum([xLIA[i,j] for j in range(N-1)]) == 1)\n",
    "    \n",
    "    #II.3 - buraco j apenas pode ser ocupado por um pombo\n",
    "    for j in range(N-1):\n",
    "        sLIA.add(Sum([xLIA[k,j] for k in range(N)]) == 1)\n",
    "\n",
    "    print(sLIA.check())\n",
    "\n",
    "    \n",
    "nLIA = 10\n",
    "pigeon_holeLIA(nLIA)"
   ]
  },
  {
   "cell_type": "markdown",
   "metadata": {},
   "source": [
    "### b. Analisar a complexidade de cada uma das provas em função de $N$ de forma empírica."
   ]
  },
  {
   "cell_type": "code",
   "execution_count": 58,
   "metadata": {},
   "outputs": [],
   "source": [
    "from timeit import timeit\n",
    "from matplotlib import pyplot as plt"
   ]
  },
  {
   "cell_type": "markdown",
   "metadata": {},
   "source": [
    "#### a.I. Lógica proposional"
   ]
  },
  {
   "cell_type": "markdown",
   "metadata": {},
   "source": [
    "Para analisar o tempo de complexidade começamos por identificar, numa lista, a quantidade de pombos ($N$) que queremos usar para calcular o tempo de execução."
   ]
  },
  {
   "cell_type": "code",
   "execution_count": 59,
   "metadata": {},
   "outputs": [],
   "source": [
    "nTimeList = [1,3,5,7,9]"
   ]
  },
  {
   "cell_type": "markdown",
   "metadata": {},
   "source": [
    "Fazemos de seguida o tempo de execução para esses valores, com auxilio da biblioteca timeit do python. Neste caso fazemos para uma média de 3 execuções para cada $N$."
   ]
  },
  {
   "cell_type": "code",
   "execution_count": 60,
   "metadata": {
    "scrolled": true
   },
   "outputs": [
    {
     "name": "stdout",
     "output_type": "stream",
     "text": [
      "unsat\n",
      "unsat\n",
      "unsat\n",
      "Tempo de execução com 1 pombos:  0.011555399999906513\n",
      "unsat\n",
      "unsat\n",
      "unsat\n",
      "Tempo de execução com 3 pombos:  0.013896799999959816\n",
      "unsat\n",
      "unsat\n",
      "unsat\n",
      "Tempo de execução com 5 pombos:  0.02620316666677051\n",
      "unsat\n",
      "unsat\n",
      "unsat\n",
      "Tempo de execução com 7 pombos:  0.042214733333366894\n",
      "unsat\n",
      "unsat\n",
      "unsat\n",
      "Tempo de execução com 9 pombos:  0.362233333333279\n"
     ]
    }
   ],
   "source": [
    "plotLP = {}\n",
    "\n",
    "for i in nTimeList:\n",
    "    nTime = i\n",
    "    time = timeit(setup=\"from __main__ import pigeon_hole, nTime\", stmt=\"pigeon_hole(nTime)\", number=3)/3\n",
    "    print(\"Tempo de execução com \"+str(i)+\" pombos: \",time)\n",
    "    plotLP[i] = time"
   ]
  },
  {
   "cell_type": "markdown",
   "metadata": {},
   "source": [
    "Agora com os valores do tempo de execução calculados fazemos um gráfico, usando a biblioteca matplotlib do python, para auxilio da análise de complexidade."
   ]
  },
  {
   "cell_type": "code",
   "execution_count": 61,
   "metadata": {},
   "outputs": [
    {
     "data": {
      "text/plain": [
       "[<matplotlib.lines.Line2D at 0x23d3a0e1f10>]"
      ]
     },
     "execution_count": 61,
     "metadata": {},
     "output_type": "execute_result"
    },
    {
     "data": {
      "image/png": "[encoded data removed]",
      "text/plain": [
       "<Figure size 432x288 with 1 Axes>"
      ]
     },
     "metadata": {
      "needs_background": "light"
     },
     "output_type": "display_data"
    }
   ],
   "source": [
    "plt.plot(nTimeList,list(plotLP.values()))"
   ]
  },
  {
   "cell_type": "markdown",
   "metadata": {},
   "source": [
    "Agora com auxilio do gráfico inferimos que a curvatura é exponencial, provando assim que a nossa resolução é de tempo exponencial.  \n",
    "Uma explicação para isso é que para o tempo de execução contribui principalmente o SAT solver que no pior caso sabemos que é exponecial no número de variáveis, que é superior ao tempo de execução das nossas restrições."
   ]
  },
  {
   "cell_type": "markdown",
   "metadata": {},
   "source": [
    "#### a.II. Lógica inteira linear"
   ]
  },
  {
   "cell_type": "markdown",
   "metadata": {},
   "source": [
    "Começamos por usar a quantidade de pombos já definida e de seguida calculamos o tempo de execução, como fazemos para a lógica anterior com igual média de 3 execuções para cada $N$."
   ]
  },
  {
   "cell_type": "code",
   "execution_count": 62,
   "metadata": {
    "scrolled": true
   },
   "outputs": [
    {
     "name": "stdout",
     "output_type": "stream",
     "text": [
      "unsat\n",
      "unsat\n",
      "unsat\n",
      "Tempo de execução com 1 pombos:  0.012164566666645745\n",
      "unsat\n",
      "unsat\n",
      "unsat\n",
      "Tempo de execução com 3 pombos:  0.014814366666693482\n",
      "unsat\n",
      "unsat\n",
      "unsat\n",
      "Tempo de execução com 5 pombos:  0.01737930000005387\n",
      "unsat\n",
      "unsat\n",
      "unsat\n",
      "Tempo de execução com 7 pombos:  0.021953699999964254\n",
      "unsat\n",
      "unsat\n",
      "unsat\n",
      "Tempo de execução com 9 pombos:  0.03255509999992986\n"
     ]
    }
   ],
   "source": [
    "plotLIA = {}\n",
    "\n",
    "for i in nTimeList:\n",
    "    nLIATime = i\n",
    "    time = timeit(setup=\"from __main__ import pigeon_holeLIA, nLIATime\", stmt=\"pigeon_holeLIA(nLIATime)\", number=3)/3\n",
    "    print(\"Tempo de execução com \"+str(i)+\" pombos: \",time)\n",
    "    plotLIA[i] = time"
   ]
  },
  {
   "cell_type": "markdown",
   "metadata": {},
   "source": [
    "Novamente repetimos o processo de criação de um gráfico com os tempos agora calculados."
   ]
  },
  {
   "cell_type": "code",
   "execution_count": 63,
   "metadata": {},
   "outputs": [
    {
     "data": {
      "text/plain": [
       "[<matplotlib.lines.Line2D at 0x23d3c171d00>]"
      ]
     },
     "execution_count": 63,
     "metadata": {},
     "output_type": "execute_result"
    },
    {
     "data": {
      "image/png": "[encoded data removed]",
      "text/plain": [
       "<Figure size 432x288 with 1 Axes>"
      ]
     },
     "metadata": {
      "needs_background": "light"
     },
     "output_type": "display_data"
    }
   ],
   "source": [
    "plt.plot(nTimeList,list(plotLIA.values()))"
   ]
  },
  {
   "cell_type": "markdown",
   "metadata": {},
   "source": [
    "Após análise do gráfico concluimos que a curva é semelhante à de uma função quadrática. Vemos então que o SAT solver não executa no pior caso, e utilizando a lógica linear inteira temos um tempo de execução quadrático."
   ]
  },
  {
   "cell_type": "markdown",
   "metadata": {},
   "source": [
    "Representamos agora os dois gráficos juntos para melhor comparação."
   ]
  },
  {
   "cell_type": "code",
   "execution_count": 64,
   "metadata": {},
   "outputs": [
    {
     "data": {
      "text/plain": [
       "Text(0, 0.5, 'Tempo de execução (s)')"
      ]
     },
     "execution_count": 64,
     "metadata": {},
     "output_type": "execute_result"
    },
    {
     "data": {
      "image/png": "[encoded data removed]",
      "text/plain": [
       "<Figure size 432x288 with 1 Axes>"
      ]
     },
     "metadata": {
      "needs_background": "light"
     },
     "output_type": "display_data"
    }
   ],
   "source": [
    "plt.plot(nTimeList,list(plotLIA.values()),  'r', nTimeList,list(plotLP.values()), 'b')\n",
    "plt.xlabel('Nº de Pombos')\n",
    "plt.ylabel('Tempo de execução (s)')"
   ]
  },
  {
   "cell_type": "markdown",
   "metadata": {},
   "source": [
    "Concluimos então que a execução com recurso à lógica inteira linear é muito mais rápida."
   ]
  }
 ],
 "metadata": {
  "kernelspec": {
   "display_name": "Python 3",
   "language": "python",
   "name": "python3"
  },
  "language_info": {
   "codemirror_mode": {
    "name": "ipython",
    "version": 3
   },
   "file_extension": ".py",
   "mimetype": "text/x-python",
   "name": "python",
   "nbconvert_exporter": "python",
   "pygments_lexer": "ipython3",
   "version": "3.8.3"
  }
 },
 "nbformat": 4,
 "nbformat_minor": 4
}
