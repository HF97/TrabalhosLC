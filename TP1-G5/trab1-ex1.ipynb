{
 "cells": [
  {
   "cell_type": "markdown",
   "metadata": {},
   "source": [
    "# Trabalho 1 LC-20/21 LCC"
   ]
  },
  {
   "cell_type": "markdown",
   "metadata": {},
   "source": [
    "Grupo 5  \n",
    "Filipe Barbosa A77252  \n",
    "Hugo Ferreira A78555"
   ]
  },
  {
   "cell_type": "code",
   "execution_count": 53,
   "metadata": {},
   "outputs": [],
   "source": [
    "from z3 import *"
   ]
  },
  {
   "cell_type": "markdown",
   "metadata": {},
   "source": [
    "### Problema 1"
   ]
  },
  {
   "cell_type": "markdown",
   "metadata": {},
   "source": [
    "Queremos construir um horário semanal para o plano de reuniões de projeto de uma “StartUp”."
   ]
  },
  {
   "cell_type": "markdown",
   "metadata": {},
   "source": [
    "Começamos por definir as condições:\n",
    "para salas ordenados de $1$ a $S$, dias de $1$ a $D$, tempos de $1$ a $T$, projetos de $1$ a $P$, e colaboradores de $1$ a $C$."
   ]
  },
  {
   "cell_type": "markdown",
   "metadata": {},
   "source": [
    "Criamos de seguida inputs com auxilio da ferramenta $numpy.random.randint$ definindo os valores das constantes $S$, $D$, $T$, $P$, $C$, a quantidade de reuniões de cada projeto e o seu lider."
   ]
  },
  {
   "cell_type": "code",
   "execution_count": 54,
   "metadata": {},
   "outputs": [
    {
     "name": "stdout",
     "output_type": "stream",
     "text": [
      "S: 4 D: 2 T: 4 P: 3 C: 2\n",
      "[[0, [3], 3, 1], [1, [3], 3, 3], [2, [4], 4, 2]]\n"
     ]
    }
   ],
   "source": [
    "import numpy\n",
    "\n",
    "S = numpy.random.randint(1,5)\n",
    "D = numpy.random.randint(1,5)\n",
    "T = numpy.random.randint(1,5)\n",
    "P = numpy.random.randint(1,5)\n",
    "C = numpy.random.randint(2,6)\n",
    "\n",
    "projetos = []\n",
    "\n",
    "for i in range(P):\n",
    "    aux = []\n",
    "    colabs = numpy.random.randint(1,5,size=numpy.random.randint(1,C))\n",
    "    aux.append(i)\n",
    "    aux.append(list(set(colabs)))\n",
    "    aux.append(numpy.random.choice(colabs))\n",
    "    aux.append(numpy.random.randint(1,5))\n",
    "    projetos.append(aux)\n",
    "\n",
    "print(\"S:\",S,\"D:\",D,\"T:\",T,\"P:\",P,\"C:\",C)\n",
    "print(projetos)"
   ]
  },
  {
   "cell_type": "markdown",
   "metadata": {},
   "source": [
    "De seguida criamos o solver *horario*."
   ]
  },
  {
   "cell_type": "code",
   "execution_count": 55,
   "metadata": {},
   "outputs": [],
   "source": [
    "horario = Solver()\n",
    "\n",
    "x={}\n",
    "y={}"
   ]
  },
  {
   "cell_type": "markdown",
   "metadata": {},
   "source": [
    "Exemplos:"
   ]
  },
  {
   "cell_type": "code",
   "execution_count": 56,
   "metadata": {},
   "outputs": [
    {
     "data": {
      "text/plain": [
       "'\\nS, D, T, P, C= 2, 2, 2, 2, 6\\nmyInput = [[0,[1,2,3],2,1],[1,[1,2,3,4],3,1]]\\n\\ncol = {}\\nlid = {}\\nreu = {}\\n\\nfor i in myInput:\\n    col[i[0]] = i[1]\\n    lid[i[0]] = i[2]\\n    reu[i[0]] = i[3]\\n'"
      ]
     },
     "execution_count": 56,
     "metadata": {},
     "output_type": "execute_result"
    }
   ],
   "source": [
    "'''\n",
    "S, D, T, P, C= 2, 2, 2, 2, 6\n",
    "myInput = [[0,[1,2,3],2,1],[1,[1,2,3,4],3,1]]\n",
    "\n",
    "col = {}\n",
    "lid = {}\n",
    "reu = {}\n",
    "\n",
    "for i in myInput:\n",
    "    col[i[0]] = i[1]\n",
    "    lid[i[0]] = i[2]\n",
    "    reu[i[0]] = i[3]\n",
    "'''"
   ]
  },
  {
   "cell_type": "markdown",
   "metadata": {},
   "source": [
    "Separamos os inputs por projeto e por tipo (colaboradores, reuniões e lider)."
   ]
  },
  {
   "cell_type": "code",
   "execution_count": 57,
   "metadata": {},
   "outputs": [
    {
     "name": "stdout",
     "output_type": "stream",
     "text": [
      "col {0: [3], 1: [3], 2: [4]}\n",
      "lid {0: 3, 1: 3, 2: 4}\n",
      "reu {0: 1, 1: 3, 2: 2}\n"
     ]
    }
   ],
   "source": [
    "col = {}\n",
    "lid = {}\n",
    "reu = {}\n",
    "\n",
    "for i in projetos:\n",
    "    col[i[0]] = i[1]\n",
    "    lid[i[0]] = i[2]\n",
    "    reu[i[0]] = i[3]\n",
    "\n",
    "print(\"col\",col)\n",
    "print(\"lid\",lid)\n",
    "print(\"reu\",reu)"
   ]
  },
  {
   "cell_type": "markdown",
   "metadata": {},
   "source": [
    "Em seguida, declaramos a matriz de alocação, $x$. Definimos a nossa matriz com todas as variáveis do programa.\n",
    "$$\n",
    "\\forall_p \\forall_r \\forall_d \\forall_s \\forall_t \\forall_c \\cdot 0 \\leq x_{p,r,d,s,t,lid_p,c} \\leq 1\n",
    "$$"
   ]
  },
  {
   "cell_type": "code",
   "execution_count": 58,
   "metadata": {},
   "outputs": [],
   "source": [
    "for p in range(P):\n",
    "    for r in range(reu[p]):\n",
    "        for d in range(D):\n",
    "            for s in range(S):\n",
    "                for t in range(T):\n",
    "                    for c in col[p]:\n",
    "                        x[p,r,d,s,t,lid[p],c] = Int(\"[p:\"+str(p)+\" r:\"+str(r)+\" d:\"+str(d)+\" s:\"+str(s)+\" t:\"+str(t)+\" l:\"+str(lid[p])+\" c:\"+str(c)+\"]\")\n",
    "                        horario.add(x[p,r,d,s,t,lid[p],c] >= 0,x[p,r,d,s,t,lid[p],c] <= 1)\n"
   ]
  },
  {
   "cell_type": "markdown",
   "metadata": {},
   "source": [
    "Criamos agora as seguintes restrições:"
   ]
  },
  {
   "cell_type": "markdown",
   "metadata": {},
   "source": [
    "    1.O número total de reuniões não pode ser maior do que o número do projeto vezes o número de colaboradores.\n",
    "\n",
    "$$\n",
    "\\forall_p \\cdot \\sum_{r,d,s,t,c} x_{p,r,d,s,t,lid_p,c} \\leq Reu_{p} \\times |Col_{p}|\n",
    "$$"
   ]
  },
  {
   "cell_type": "code",
   "execution_count": 59,
   "metadata": {},
   "outputs": [],
   "source": [
    "for p in range(P):   \n",
    "    horario.add(Sum([x[p,r,d,s,t,lid[p],c] for r in range(reu[p]) for d in range(D) for s in range(S) for t in range(T) for c in col[p]]) <= reu[p]*len(col[p]))\n"
   ]
  },
  {
   "cell_type": "markdown",
   "metadata": {},
   "source": [
    "    2.Reunião apenas acontece num dia, numa sala, num tempo.\n",
    "\n",
    "$$\n",
    "\\forall_p \\forall_r \\cdot \\sum_{d,s,t,c} x_{p,r,d,s,t,lid_p,c} \\leq |Col_{p}|\n",
    "$$"
   ]
  },
  {
   "cell_type": "code",
   "execution_count": 60,
   "metadata": {},
   "outputs": [],
   "source": [
    "for p in range(P):\n",
    "    for r in range(reu[p]):\n",
    "        horario.add(Sum([x[p,r,d,s,t,lid[p],c] for d in range(D) for s in range(S) for t in range(T) for c in col[p]]) <= len(col[p]))\n"
   ]
  },
  {
   "cell_type": "markdown",
   "metadata": {},
   "source": [
    "    3.Certo colaborador apensa está presente numa sala num determinado dia, hora, tempo.\n",
    "\n",
    "$$\n",
    "\\forall_p \\forall_c \\forall_d \\forall_t \\cdot \\sum_{r,s} x_{p,r,d,s,t,lid_p,c} \\leq 1\n",
    "$$"
   ]
  },
  {
   "cell_type": "code",
   "execution_count": 61,
   "metadata": {},
   "outputs": [],
   "source": [
    "for d in range(D):\n",
    "    for t in range(T):\n",
    "        for p in range(P):\n",
    "            for c in col[p]:\n",
    "                horario.add(Sum([x[p,r,d,s,t,lid[p],c] for s in range(S) for r in range(reu[p])]) <= 1)\n"
   ]
  },
  {
   "cell_type": "markdown",
   "metadata": {},
   "source": [
    "    4. Para realizar-se uma reunião deve ter pelo menos 50% dos colaboradores do projeto a participar.\n",
    "\n",
    "$$\n",
    "\\forall_p \\forall_r \\cdot \\sum_{d,s,t,c} x_{p,r,d,s,t,lid_p,c} \\leq |col_{p}|\n",
    "$$\n",
    "\n",
    "    De seguida testamos se o número de colaboradores é par ou impar porque o resultado da divisão de um número inteiro impar por 2 é um número arredondado para baixo e neste caso para a reunião ter pelo menos 50% assistência temos de adicionar mais 1.\n",
    "    Se for par fazemos:\n",
    "\n",
    "$$\n",
    "\\forall_p \\forall_r \\cdot \\sum_{d,s,t,c} x_{p,r,d,s,t,lid_p,c} \\geq |col_{p}|\\div2\n",
    "$$\n",
    "\n",
    "    Se for impar fica então:\n",
    "\n",
    "$$\n",
    "\\forall_p \\forall_r \\cdot \\sum_{d,s,t,c} x_{p,r,d,s,t,lid_p,c} \\geq (|col_{p}|\\div2) + 1\n",
    "$$\n"
   ]
  },
  {
   "cell_type": "code",
   "execution_count": 62,
   "metadata": {},
   "outputs": [],
   "source": [
    "for p in range(P):\n",
    "    for r in range(reu[p]):\n",
    "        horario.add(Sum([x[p,r,d,s,t,lid[p],c] for d in range(D) for s in range(S) for t in range(T) for c in col[p]]) <= len(col[p]))\n",
    "        if (len(col[p])%2)==0:\n",
    "            horario.add(Sum([x[p,r,d,s,t,lid[p],c] for d in range(D) for s in range(S) for t in range(T) for c in col[p]]) >= (len(col[p])/2))\n",
    "        else:\n",
    "            horario.add(Sum([x[p,r,d,s,t,lid[p],c] for d in range(D) for s in range(S) for t in range(T) for c in col[p]]) >= (len(col[p])/2)+1)"
   ]
  },
  {
   "cell_type": "markdown",
   "metadata": {},
   "source": [
    "    5.Lider comparece em todas as reuniões dos projetos que lidera.\n",
    "\n",
    "$$\n",
    "\\forall_p \\cdot \\sum_{r,s,d,t} x_{p,r,d,s,t,lid_p,lid_p} = reu_p\n",
    "$$"
   ]
  },
  {
   "cell_type": "code",
   "execution_count": 63,
   "metadata": {
    "scrolled": false
   },
   "outputs": [],
   "source": [
    "for p in range(P):\n",
    "    horario.add(Sum([x[p,r,d,s,t,lid[p],lid[p]] for r in range(reu[p]) for s in range(S) for d in range(D) for t in range(T) ]) == reu[p])\n"
   ]
  },
  {
   "cell_type": "markdown",
   "metadata": {},
   "source": [
    "    6.Colaborador não pode ir à mesma reunião em varios dias, horas e tempos.\n",
    "\n",
    "$$\n",
    "\\forall_p \\forall_r \\forall_c \\cdot \\sum_{s,d,t} x_{p,r,d,s,t,l,c} \\leq 1\n",
    "$$"
   ]
  },
  {
   "cell_type": "code",
   "execution_count": 64,
   "metadata": {},
   "outputs": [],
   "source": [
    "for p in range(P):\n",
    "    for r in range(reu[p]):\n",
    "        for c in col[p]:\n",
    "            horario.add(Sum([x[p,r,d,s,t,lid[p],c] for d in range(D) for s in range(S) for t in range(T)]) <= 1)\n"
   ]
  },
  {
   "cell_type": "markdown",
   "metadata": {},
   "source": [
    "Finalizamos agora testando se é possivel satisfazer as restrições e imprimimos o horário."
   ]
  },
  {
   "cell_type": "code",
   "execution_count": 65,
   "metadata": {},
   "outputs": [
    {
     "name": "stdout",
     "output_type": "stream",
     "text": [
      "sat\n",
      "projeto 0 Reunião 0 Lider 3 Colaborador 3 Dia 0 Hora 0 Sala 0\n",
      "projeto 1 Reunião 0 Lider 3 Colaborador 3 Dia 0 Hora 0 Sala 3\n",
      "projeto 1 Reunião 1 Lider 3 Colaborador 3 Dia 1 Hora 2 Sala 0\n",
      "projeto 1 Reunião 2 Lider 3 Colaborador 3 Dia 0 Hora 2 Sala 3\n",
      "projeto 2 Reunião 0 Lider 4 Colaborador 4 Dia 0 Hora 2 Sala 2\n",
      "projeto 2 Reunião 1 Lider 4 Colaborador 4 Dia 1 Hora 3 Sala 3\n"
     ]
    }
   ],
   "source": [
    "r = horario.check()\n",
    "print(r)\n",
    "\n",
    "if r == sat:\n",
    "    m = horario.model()\n",
    "\n",
    "for p in range(P):\n",
    "    for r in range(reu[p]):\n",
    "        for c in col[p]:\n",
    "            for d in range(D):\n",
    "                for t in range(T):\n",
    "                    for s in range(S):\n",
    "                        if (m[x[p,r,d,s,t,lid[p],c]] == 1):\n",
    "                            print(\"projeto\",p,\"Reunião\",r,\"Lider\",lid[p],\"Colaborador\",c,\"Dia\",d,\"Hora\",t,\"Sala\",s)\n"
   ]
  }
 ],
 "metadata": {
  "kernelspec": {
   "display_name": "Python 3",
   "language": "python",
   "name": "python3"
  },
  "language_info": {
   "codemirror_mode": {
    "name": "ipython",
    "version": 3
   },
   "file_extension": ".py",
   "mimetype": "text/x-python",
   "name": "python",
   "nbconvert_exporter": "python",
   "pygments_lexer": "ipython3",
   "version": "3.8.3"
  }
 },
 "nbformat": 4,
 "nbformat_minor": 4
}
