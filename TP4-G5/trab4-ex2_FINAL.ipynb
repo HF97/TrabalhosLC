{
 "cells": [
  {
   "cell_type": "markdown",
   "metadata": {},
   "source": [
    "# Trabalho 4"
   ]
  },
  {
   "cell_type": "markdown",
   "metadata": {},
   "source": [
    "Grupo 5  \n",
    "Filipe Barbosa a77252  \n",
    "Hugo Ferreira a78555"
   ]
  },
  {
   "cell_type": "code",
   "execution_count": 3,
   "metadata": {},
   "outputs": [],
   "source": [
    "from z3 import *\n",
    "import math\n",
    "import numpy"
   ]
  },
  {
   "cell_type": "markdown",
   "metadata": {},
   "source": [
    "### Problema 2"
   ]
  },
  {
   "cell_type": "markdown",
   "metadata": {},
   "source": [
    "Criamos a matrix ang que contem os senos e cossenos predefinidos."
   ]
  },
  {
   "cell_type": "code",
   "execution_count": 4,
   "metadata": {},
   "outputs": [],
   "source": [
    "# Matriz com os angulos predifinidos\n",
    "sen = []\n",
    "cos = []\n",
    "ang = []\n",
    "for i in range(24):\n",
    "    sen.append(math.sin(math.radians(15*i)))\n",
    "    cos.append(math.cos(math.radians(15*i)))\n",
    "\n",
    "ang.append(sen)\n",
    "ang.append(cos)"
   ]
  },
  {
   "cell_type": "markdown",
   "metadata": {},
   "source": [
    "De seguida criamos a matriz onde contem todos os setores."
   ]
  },
  {
   "cell_type": "code",
   "execution_count": 5,
   "metadata": {},
   "outputs": [
    {
     "name": "stdout",
     "output_type": "stream",
     "text": [
      "[[ 0  1  2  3  4  5  6]\n",
      " [ 7  8  9 10 11 12 13]\n",
      " [14 15 16 17 18 19 20]\n",
      " [21 22 23 24 25 26 27]\n",
      " [28 29 30 31 32 33 34]\n",
      " [35 36 37 38 39 40 41]\n",
      " [42 43 44 45 46 47 48]]\n"
     ]
    }
   ],
   "source": [
    "N=7\n",
    "\n",
    "def area(N):\n",
    "    return numpy.array([[(7*y)+x for x in range(N)] for y in range(N)])\n",
    "\n",
    "espaco = area(N)\n",
    "print(espaco)"
   ]
  },
  {
   "cell_type": "markdown",
   "metadata": {},
   "source": [
    "A função \"declare\" cria a $i$-ésima cópia das variáveis de estado, agrupadas num dicionário que nos permite aceder às mesmas pelo nome e declare_c cria a $i$-ésima cópia das variáveis de estado do controlador.\n",
    "Declaramos de seguida os vários modos, $INIT$, $HIGH$, $LOW$ e $STOP$."
   ]
  },
  {
   "cell_type": "code",
   "execution_count": 6,
   "metadata": {},
   "outputs": [],
   "source": [
    "#modos init, e das velocidades\n",
    "Mode, (INIT,HIGH,LOW,STOP) = EnumSort('Mode', ('INIT','HIGH','LOW','STOP'))\n",
    "\n",
    "#declara a i-esima copia de um navio\n",
    "def declare(i,x):\n",
    "    s = {}\n",
    "    s['t'] = Real('t'+str(i)+str(x))\n",
    "    s['m'] = Const('m'+str(i)+str(x),Mode)\n",
    "    s['x'] = Int('x'+str(i)+str(x))\n",
    "    s['y'] = Int('y'+str(i)+str(x))\n",
    "    s['v'] = Int('v'+str(i)+str(x))\n",
    "    s['rota'] = Int('rota'+str(i)+str(x))\n",
    "    s['evento'] = Int('evento'+str(i)+str(x))\n",
    "    return s\n",
    "\n",
    "#declara a i-esima copia do controlador\n",
    "def declare_c(i):\n",
    "    s_c = {}\n",
    "    s_c['evento1'] = Bool('evento1'+str(i))\n",
    "    s_c['evento2'] = Bool('evento2'+str(i))\n",
    "    s_c['evento3'] = Bool('evento3'+str(i))\n",
    "    return s_c"
   ]
  },
  {
   "cell_type": "markdown",
   "metadata": {},
   "source": [
    "Define-se então a função $init$ que declara o estado inicial do programa.\n",
    "O tempo começa no 0, o modo inicial é o $INIT$ a velocidade e rota encontram-se a 0.\n",
    "\n",
    "$$\n",
    "\\mathit{t} = 0 \\wedge \\mathit{m} = INIT \\wedge \\mathit{v} = 0 \\wedge \\mathit{rota} = 0 \\wedge \\mathit{x} = 0 \\wedge \\mathit{y} = 0 \\wedge \\mathit{evento} = 0\n",
    "$$"
   ]
  },
  {
   "cell_type": "code",
   "execution_count": 7,
   "metadata": {},
   "outputs": [],
   "source": [
    "#declara estado inicial\n",
    "def init(s):\n",
    "    return And(s['t'] == 0, s['x'] >= 0, s['y'] >= 0,s['m'] == INIT, s['v'] == 0, s['rota'] == 0, s['evento'] == 0)"
   ]
  },
  {
   "cell_type": "markdown",
   "metadata": {},
   "source": [
    "Criamos uma função init_c para declarar o estado inicial do controlador.\n",
    "\n",
    "\n",
    "$$\n",
    "\\mathit{evento3} = 0 \\wedge \\mathit{evento2} = 0 \\wedge \\mathit{evento1} = 0\n",
    "$$"
   ]
  },
  {
   "cell_type": "code",
   "execution_count": 8,
   "metadata": {},
   "outputs": [],
   "source": [
    "#declara estado inicial\n",
    "def init_c(s_c):\n",
    "    return And(s_c['evento1'] == False, s_c['evento2'] == False, s_c['evento3'] == False)"
   ]
  },
  {
   "cell_type": "markdown",
   "metadata": {},
   "source": [
    "As transições untimed são caracterizadas pelo seguinte predicado:\n",
    "\n",
    "$$\n",
    "( \\mathit{m} = INIT \\wedge \\mathit{m}' = HIGH \\wedge \\mathit{x}' = \\mathit{x} \\wedge \\mathit{y}' = \\mathit{y} \\wedge  \\mathit{t}' = \\mathit{t} \\wedge \\mathit{v}' = 10 \\wedge rota' = rota)\n",
    "$$\n",
    "\n",
    "\n",
    "As transições timed são caracterizadas pelo seguinte predicado:\n",
    "\n",
    "$$\n",
    "\\begin{array}{c}\n",
    "(\\mathit{m} = HIGH \\wedge \\mathit{m}' = LOW \\wedge \\mathit{x}' = \\mathit{x} \\wedge \\mathit{y}' = \\mathit{y} \\wedge \\mathit{t}' = \\mathit{t+500} \\wedge \\mathit{v} = 10 \\wedge \\mathit{v}' = 1 \\wedge ((rota' = rota + 1 \\wedge rota' \\ge 0) \\vee (rota' = rota - 1 \\wedge rota' > 0)) \\wedge \\mathit{x}' \\le \\mathit{x} + r \\wedge \\mathit{x} \\le \\mathit{x}' + r \\wedge \\mathit{y}' \\le \\mathit{y} + r \\wedge \\mathit{y} \\le \\mathit{y}' + r \\wedge \\mathit{t}' \\le \\mathit{t} + \\frac{r}{v} \\wedge \\mathit{t} \\le \\mathit{t}' + \\frac{r}{v})\\\\\n",
    "\\vee\\\\\n",
    "(\\mathit{m} = LOW \\wedge \\mathit{m}' = HIGH \\wedge \\mathit{x}' = \\mathit{x} \\wedge \\mathit{y}' = \\mathit{y} \\wedge \\mathit{t}' = \\mathit{t+500} \\wedge \\mathit{v} = 10 \\wedge \\mathit{v}' = 1 \\wedge rota' = rota \\wedge \\mathit{x}' > \\mathit{x} + r \\wedge \\mathit{x} > \\mathit{x}' + r \\wedge \\mathit{y}' > \\mathit{y} + r \\wedge \\mathit{y} > \\mathit{y}' + r \\wedge \\mathit{t}' > \\mathit{t} + \\frac{r}{v} \\wedge \\mathit{t} > \\mathit{t}' + \\frac{r}{v})\\\\\n",
    "\\vee\\\\\n",
    "(\\mathit{m} = LOW \\wedge \\mathit{m}' = LOW \\wedge \\mathit{x}' = \\mathit{x} + 1*(\\mathit{t}'-\\mathit{t})*cos \\wedge \\mathit{y}' = \\mathit{y} + 1*(\\mathit{t}'-\\mathit{t})*sen \\wedge \\mathit{t}' > \\mathit{t} \\wedge \\wedge \\mathit{v} = 1 \\wedge \\mathit{v}' = \\mathit{v} \\wedge rota' = rota)\\\\\n",
    "\\vee\\\\\n",
    "(\\mathit{m} = HIGH \\wedge \\mathit{m}' = HIGH \\wedge \\mathit{x}' = \\mathit{x} + 10*(\\mathit{t}'-\\mathit{t})*cos \\wedge \\mathit{y}' = \\mathit{y} + 10*(\\mathit{t}'-\\mathit{t})*sen \\wedge \\mathit{t}' > \\mathit{t} \\wedge \\mathit{v} = 10 \\wedge \\mathit{v}' = \\mathit{v} \\wedge rota' = rota)\\\\\n",
    "\\vee\\\\\n",
    "( \\mathit{m} = STOP \\wedge \\mathit{m}' = LOW \\wedge \\mathit{x}' = \\mathit{x} \\wedge \\mathit{y}' = \\mathit{y} \\wedge  \\mathit{t}' = \\mathit{t+50} \\wedge \\mathit{v}' = 10 \\wedge rota' = rota)\\\\\n",
    "\\vee\\\\\n",
    "( \\mathit{m} = LOW \\wedge \\mathit{m}' = STOP \\wedge \\mathit{x}' = \\mathit{x} \\wedge \\mathit{y}' = \\mathit{y} \\wedge  \\mathit{t}' = \\mathit{t+50} \\wedge \\mathit{v}' = 10 \\wedge rota' = rota)\\\\\n",
    "\\end{array}\n",
    "$$"
   ]
  },
  {
   "cell_type": "code",
   "execution_count": 11,
   "metadata": {},
   "outputs": [],
   "source": [
    "def trans(curr,prox,cont, sen,cos,x,y,t,v):\n",
    "    # untimed\n",
    "    t1_ih = And(curr['m'] == INIT, prox['m'] == HIGH, prox['x'] == curr['x'], prox['y'] == curr['y'], prox['t'] == curr['t'], prox['v'] == 10, prox['rota'] == curr['rota'] )\n",
    "    \n",
    "    \n",
    "    # timed\n",
    "    \n",
    "    t2_hl = And(curr['m'] == HIGH, prox['m'] == LOW,  prox['x'] == curr['x'], prox['y'] == curr['y'], prox['t'] == curr['t']+500, curr['v'] == 10, prox['v'] == 1,  Or(And(prox['rota'] == curr['rota'] + 1, curr['rota'] >= 0), And(prox['rota'] == curr['rota'] - 1, curr['rota'] > 0)), prox['x']<=x+r,x<=prox['x']+r,prox['y']<=y+r,y<=prox['y']+r,prox['t']<=t+r/v,t<=prox['t']+r/v)\n",
    "    t3_lh = And(curr['m'] == LOW,  prox['m'] == HIGH, prox['x'] == curr['x'], prox['y'] == curr['y'], prox['t'] == curr['t']+500, curr['v'] == 1,  prox['v'] == 10, prox['rota'] == curr['rota'],                        prox['x']>x+r,x>prox['x']+r,prox['y']>y+r,y>prox['y']+r,prox['t']>r/v+t,t>prox['t']+r/v)\n",
    "    \n",
    "    t4_ll = And(curr['m'] == LOW,  prox['m'] == curr['m'], prox['t']>curr['t'], curr['v'] == 1,  prox['v'] == curr['v'], prox['x'] == curr['x'] + 1*(prox['t']-curr['t'])*cos,  prox['y'] == curr['y'] + 1*(prox['t']-curr['t'])*sen,  prox['rota'] == curr['rota'])\n",
    "    t5_hh = And(curr['m'] == HIGH, prox['m'] == curr['m'], prox['t']>curr['t'], curr['v'] == 10, prox['v'] == curr['v'], prox['x'] == curr['x'] + 1, prox['y'] == curr['y'] + 1, prox['rota'] == curr['rota'],)\n",
    "    \n",
    "    t6_ls=And(curr['m'] == LOW,  prox['m'] == STOP, prox['x'] == curr['x'], prox['y'] == curr['y'], prox['t'] == curr['t']+50, curr['v'] == 1,  prox['v'] == 0, prox['rota'] == curr['rota'],                        prox['x']>x+r,x>prox['x']+r,prox['y']>y+r,y>prox['y']+r,prox['t']>r/v+t,t>prox['t']+r/v)\n",
    "    t7_sl=And(curr['m'] == STOP,  prox['m'] == LOW, prox['x'] == curr['x'], prox['y'] == curr['y'], prox['t'] == curr['t']+50, curr['v'] == 0,  prox['v'] == 1, prox['rota'] == curr['rota'],                        prox['x']>x+r,x>prox['x']+r,prox['y']>y+r,y>prox['y']+r,prox['t']>r/v+t,t>prox['t']+r/v)\n",
    "    return Or(t1_ih,t2_hl,t3_lh,t4_ll,t5_hh,t6_ls,t7_sl)"
   ]
  },
  {
   "cell_type": "markdown",
   "metadata": {},
   "source": [
    "Criamos agora a função de ordem superior $gera\\_traco$ que, para quatro estados (três navios e um controlador), gera uma cópia das variáveis do estado, um predicado que define o estado inicial, outro que adiciona pares de transições entre pares de estados e um número n que define o tamanho do traço."
   ]
  },
  {
   "cell_type": "code",
   "execution_count": 10,
   "metadata": {},
   "outputs": [
    {
     "ename": "TypeError",
     "evalue": "gera_traco() missing 2 required positional arguments: 'trans' and 'k'",
     "output_type": "error",
     "traceback": [
      "\u001b[1;31m---------------------------------------------------------------------------\u001b[0m",
      "\u001b[1;31mTypeError\u001b[0m                                 Traceback (most recent call last)",
      "\u001b[1;32m<ipython-input-10-fc6c1dc24efb>\u001b[0m in \u001b[0;36m<module>\u001b[1;34m\u001b[0m\n\u001b[0;32m     40\u001b[0m             \u001b[0mprint\u001b[0m\u001b[1;33m(\u001b[0m\u001b[1;34m\"\\n\"\u001b[0m\u001b[1;33m)\u001b[0m\u001b[1;33m\u001b[0m\u001b[1;33m\u001b[0m\u001b[0m\n\u001b[0;32m     41\u001b[0m \u001b[1;33m\u001b[0m\u001b[0m\n\u001b[1;32m---> 42\u001b[1;33m \u001b[0mgera_traco\u001b[0m\u001b[1;33m(\u001b[0m\u001b[0mdeclare\u001b[0m\u001b[1;33m,\u001b[0m\u001b[0minit\u001b[0m\u001b[1;33m,\u001b[0m\u001b[0mtrans\u001b[0m\u001b[1;33m,\u001b[0m\u001b[1;36m10\u001b[0m\u001b[1;33m)\u001b[0m\u001b[1;33m\u001b[0m\u001b[1;33m\u001b[0m\u001b[0m\n\u001b[0m",
      "\u001b[1;31mTypeError\u001b[0m: gera_traco() missing 2 required positional arguments: 'trans' and 'k'"
     ]
    }
   ],
   "source": [
    "def gera_traco(declare, declare_c, init, init_c, trans,k):\n",
    "    s = Solver()  \n",
    "    state1 = [declare(i,1) for i in range(k)]\n",
    "    state2 = [declare(i,2) for i in range(k)]\n",
    "    state3 = [declare(i,3) for i in range(k)]\n",
    "    stateC = [declare(i) for i in range(k)]\n",
    "    \n",
    "    s.add(init(state1[0]))\n",
    "    s.add(init(state2[0]))\n",
    "    s.add(init(state3[0]))\n",
    "    s.add(init_c(stateC[0]))\n",
    "    \n",
    "    for i in range(k-1):\n",
    "        s.add(trans(state1[i],state1[i+1],cont,sin(state1[i]['r']*15),cos(state1[i]['r']*15),state2[i]['x'],state2[i]['y'],state2[i]['t'],(state1[i]['v'] + state2[i]['v'])/2))\n",
    "        s.add(trans(state2[i],state2[i+1],cont,sin(state2[i]['r']*15),cos(state2[i]['r']*15),state3[i]['x'],state3[i]['y'],state3[i]['t'],(state2[i]['v'] + state3[i]['v'])/2))\n",
    "        s.add(trans(state3[i],state3[i+1],cont,sin(state3[i]['r']*15),cos(state3[i]['r']*15),state1[i]['x'],state1[i]['y'],state1[i]['t'],(state3[i]['v'] + state1[i]['v'])/2))\n",
    "    \n",
    "    if s.check() == sat:\n",
    "        m = s.model()\n",
    "        for i in range(k):\n",
    "            print(\"Transicao\",i+1)\n",
    "            print(\"Navio1\")\n",
    "            for x in state1[i]:\n",
    "                if state1[i][x].sort() != RealSort():\n",
    "                    print(x,'=',m[state1[i][x]])\n",
    "                else:\n",
    "                    print(x,'=',float(m[state1[i][x]].numerator_as_long())/float(m[state1[i][x]].denominator_as_long()))\n",
    "            print(\"Navio2\")\n",
    "            for x in state2[i]:\n",
    "                if state2[i][x].sort() != RealSort():\n",
    "                    print(x,'=',m[state2[i][x]])\n",
    "                else:\n",
    "                    print(x,'=',float(m[state2[i][x]].numerator_as_long())/float(m[state2[i][x]].denominator_as_long()))\n",
    "            print(\"Navio3\")\n",
    "            for x in state3[i]:\n",
    "                if state3[i][x].sort() != RealSort():\n",
    "                    print(x,'=',m[state3[i][x]])\n",
    "                else:\n",
    "                    print(x,'=',float(m[state3[i][x]].numerator_as_long())/float(m[state3[i][x]].denominator_as_long()))\n",
    "            print(\"\\n\")\n",
    "                    \n",
    "gera_traco(declare,init,trans,10)"
   ]
  },
  {
   "cell_type": "markdown",
   "metadata": {},
   "source": [
    "Agora para testar se não há colisões de navios em $k$ iterações criamos o $bmc\\_always$. Adicionamos a propriedade e verificamos se ela é válida."
   ]
  },
  {
   "cell_type": "code",
   "execution_count": 13,
   "metadata": {},
   "outputs": [],
   "source": [
    "def bmc_always(declare, declare_c, init, init_c, trans, inv, k):\n",
    "    s = Solver()\n",
    "    state1 = [declare(i,1) for i in range(k)]\n",
    "    state2 = [declare(i,2) for i in range(k)]\n",
    "    state3 = [declare(i,3) for i in range(k)]\n",
    "    stateC = [declare(i) for i in range(k)] \n",
    "    s.add(init(state1[0]))\n",
    "    s.add(init(state2[0]))\n",
    "    s.add(init(state3[0]))\n",
    "    s.add(init_c(stateC[0]))\n",
    "    for i in range(k-1):\n",
    "        s.add(trans(state1[i],state1[i+1],sen[i],cos[i],state2[i]['x'],state2[i]['y'],state2[i]['t'],(state1[i]['v'] + state2[i]['v'])/2))\n",
    "        s.add(trans(state2[i],state2[i+1],sen[i],cos[i],state3[i]['x'],state3[i]['y'],state3[i]['t'],(state2[i]['v'] + state3[i]['v'])/2))\n",
    "        s.add(trans(state3[i],state3[i+1],sen[i],cos[i],state1[i]['x'],state1[i]['y'],state1[i]['t'],(state3[i]['v'] + state1[i]['v'])/2))    \n",
    "    s.add(And([Not(inv(state1[i],state2[i])) for i in range(k)]))\n",
    "    s.add(And([Not(inv(state2[i],state3[i])) for i in range(k)]))\n",
    "    s.add(And([Not(inv(state3[i],state1[i])) for i in range(k)]))\n",
    "    if s.check() == sat:\n",
    "        m = s.model()\n",
    "        for i in range(k):\n",
    "            print(\"Transicao\",i)\n",
    "            print(\"Navio1\")\n",
    "            for x in state1[i]:\n",
    "                if state1[i][x].sort() != RealSort():\n",
    "                    print(x,'=',m[state1[i][x]])\n",
    "                else:\n",
    "                    print(x,'=',float(m[state1[i][x]].numerator_as_long())/float(m[state1[i][x]].denominator_as_long()))\n",
    "            print(\"Navio2\")\n",
    "            for x in state2[i]:\n",
    "                if state2[i][x].sort() != RealSort():\n",
    "                    print(x,'=',m[state2[i][x]])\n",
    "                else:\n",
    "                    print(x,'=',float(m[state2[i][x]].numerator_as_long())/float(m[state2[i][x]].denominator_as_long()))\n",
    "            print(\"Navio3\")\n",
    "            for x in state3[i]:\n",
    "                if state3[i][x].sort() != RealSort():\n",
    "                    print(x,'=',m[state3[i][x]])\n",
    "                else:\n",
    "                    print(x,'=',float(m[state3[i][x]].numerator_as_long())/float(m[state3[i][x]].denominator_as_long()))\n",
    "            print(\"\\n\")\n",
    "        print (\"Nao há colisões para \"+str(k)+\" estados\") \n",
    "        return\n",
    "        \n",
    "    print (\"Há colisões para \"+str(k)+\" estados\") "
   ]
  },
  {
   "cell_type": "markdown",
   "metadata": {},
   "source": [
    "Para não haver colisões entre navios as coordenadas x e y não podem ser iguais entre dois navios no mesmo tempo."
   ]
  },
  {
   "cell_type": "code",
   "execution_count": 14,
   "metadata": {
    "scrolled": false
   },
   "outputs": [
    {
     "ename": "NameError",
     "evalue": "name 'init' is not defined",
     "output_type": "error",
     "traceback": [
      "\u001b[1;31m---------------------------------------------------------------------------\u001b[0m",
      "\u001b[1;31mNameError\u001b[0m                                 Traceback (most recent call last)",
      "\u001b[1;32m<ipython-input-14-04e1151c237b>\u001b[0m in \u001b[0;36m<module>\u001b[1;34m\u001b[0m\n\u001b[0;32m      2\u001b[0m     \u001b[1;32mreturn\u001b[0m \u001b[0mOr\u001b[0m\u001b[1;33m(\u001b[0m\u001b[0mAnd\u001b[0m\u001b[1;33m(\u001b[0m\u001b[0ms1\u001b[0m\u001b[1;33m[\u001b[0m\u001b[1;34m'x'\u001b[0m\u001b[1;33m]\u001b[0m\u001b[1;33m==\u001b[0m\u001b[0ms2\u001b[0m\u001b[1;33m[\u001b[0m\u001b[1;34m'x'\u001b[0m\u001b[1;33m]\u001b[0m\u001b[1;33m,\u001b[0m\u001b[0ms1\u001b[0m\u001b[1;33m[\u001b[0m\u001b[1;34m't'\u001b[0m\u001b[1;33m]\u001b[0m\u001b[1;33m==\u001b[0m\u001b[0ms2\u001b[0m\u001b[1;33m[\u001b[0m\u001b[1;34m't'\u001b[0m\u001b[1;33m]\u001b[0m\u001b[1;33m)\u001b[0m\u001b[1;33m,\u001b[0m\u001b[0mAnd\u001b[0m\u001b[1;33m(\u001b[0m\u001b[0ms1\u001b[0m\u001b[1;33m[\u001b[0m\u001b[1;34m'y'\u001b[0m\u001b[1;33m]\u001b[0m\u001b[1;33m==\u001b[0m\u001b[0ms2\u001b[0m\u001b[1;33m[\u001b[0m\u001b[1;34m'y'\u001b[0m\u001b[1;33m]\u001b[0m\u001b[1;33m,\u001b[0m\u001b[0ms1\u001b[0m\u001b[1;33m[\u001b[0m\u001b[1;34m't'\u001b[0m\u001b[1;33m]\u001b[0m\u001b[1;33m==\u001b[0m\u001b[0ms2\u001b[0m\u001b[1;33m[\u001b[0m\u001b[1;34m't'\u001b[0m\u001b[1;33m]\u001b[0m\u001b[1;33m)\u001b[0m\u001b[1;33m)\u001b[0m\u001b[1;33m\u001b[0m\u001b[1;33m\u001b[0m\u001b[0m\n\u001b[0;32m      3\u001b[0m \u001b[1;33m\u001b[0m\u001b[0m\n\u001b[1;32m----> 4\u001b[1;33m \u001b[0mbmc_always\u001b[0m\u001b[1;33m(\u001b[0m\u001b[0mdeclare\u001b[0m\u001b[1;33m,\u001b[0m\u001b[0minit\u001b[0m\u001b[1;33m,\u001b[0m\u001b[0mtrans\u001b[0m\u001b[1;33m,\u001b[0m\u001b[0mcolide\u001b[0m\u001b[1;33m,\u001b[0m\u001b[1;36m7\u001b[0m\u001b[1;33m)\u001b[0m\u001b[1;33m\u001b[0m\u001b[1;33m\u001b[0m\u001b[0m\n\u001b[0m",
      "\u001b[1;31mNameError\u001b[0m: name 'init' is not defined"
     ]
    }
   ],
   "source": [
    "def colide(s1,s2):\n",
    "    return Or(And(s1['x']==s2['x'],s1['t']==s2['t']),And(s1['y']==s2['y'],s1['t']==s2['t']))\n",
    "\n",
    "bmc_always(declare,init,trans,colide,7)"
   ]
  },
  {
   "cell_type": "code",
   "execution_count": null,
   "metadata": {},
   "outputs": [],
   "source": []
  }
 ],
 "metadata": {
  "kernelspec": {
   "display_name": "Python 3",
   "language": "python",
   "name": "python3"
  },
  "language_info": {
   "codemirror_mode": {
    "name": "ipython",
    "version": 3
   },
   "file_extension": ".py",
   "mimetype": "text/x-python",
   "name": "python",
   "nbconvert_exporter": "python",
   "pygments_lexer": "ipython3",
   "version": "3.8.3"
  }
 },
 "nbformat": 4,
 "nbformat_minor": 4
}
